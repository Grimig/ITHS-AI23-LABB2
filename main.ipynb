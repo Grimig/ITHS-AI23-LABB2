{
 "cells": [
  {
   "cell_type": "markdown",
   "metadata": {},
   "source": [
    "# LABB 2\n",
    "\n",
    "## Using synthetic data and ML to solve the problem of differentiating between obese Pichus and Pikachus\n",
    "\n",
    "### Objective\n",
    "The purpose of this lab is to utilize the tools you have learned in Python to implement a simplified machine learning algorithm.\n",
    "\n",
    "### Overview\n",
    "In this lab, there is simulated data on the lengths and widths of Pichus and Pikachus. Your task is to create an algorithm that can classify a new data point as either Pichu or Pikachu based on the given data.\n",
    "\n",
    "---\n",
    "\n",
    "### Basic Task\n",
    "Follow this flowchart to build the basic algorithm.\n",
    "- Test Data Coordinates: `(25,32), (24.2,31.5), (22,34), (20.5,34)`\n",
    "\n",
    "#### Expected Results\n",
    "- Sample with (width, height): `(25, 32)` classified as Pikachu\n",
    "- Sample with (width, height): `(24.2, 31.5)` classified as Pikachu\n",
    "- Sample with (width, height): `(22, 34)` classified as Pikachu\n",
    "- Sample with (width, height): `(20.5, 34)` classified as Pichu\n",
    "\n",
    "---\n",
    "\n",
    "### Additional Tasks\n",
    "Complete these tasks once you have correctly classified the test data.\n",
    "1. Allow the user to input a test point and have the algorithm determine its class.\n",
    "    - Include error handling for negative numbers and non-numeric inputs. Make sure to provide user-friendly error messages.\n",
    "2. The nearest-point approach we have used may misclassify when the points of each class overlap.\n",
    "    - Now choose the ten nearest points to your test point.\n",
    "    - The class of the test point is determined by majority voting among the nearest points.\n",
    "\n",
    "\n",
    "\n",
    "### - "
   ]
  },
  {
   "cell_type": "code",
   "execution_count": null,
   "metadata": {},
   "outputs": [],
   "source": [
    "import csv\n",
    "import numpy as np\n",
    "import matplotlib.pyplot as plt\n",
    "\n",
    "pichu = []\n",
    "pikachu = []\n",
    "\n",
    "# Test data points\n",
    "test_points = [(25, 32), (24.2, 31.5), (22, 34), (20.5, 34)]\n",
    "\n",
    "\n",
    "sorted_data = [] # datapoints.txt\n",
    "with open('resources/datapoints.txt', 'r') as datapoints:\n",
    "    reader = csv.reader(datapoints, delimiter=',') # read the file datapoints.txt\n",
    "    for row in reader:                       \n",
    "        sorted_data.append(row)\n",
    "    sorted_data = sorted_data[1:]   #removes header from imported text \n",
    "    sorted_data = np.array(sorted_data).astype(float) #convert the data to a numpy array and convert the elements to float\n",
    "    for row in sorted_data: \n",
    "                                #For each row in the sorted_data list, checks the value of the third element (row[2]).\n",
    "                                #If the value is 0, it plots label \"0-pichu\".                       \n",
    "                                #If the value is 1, it plots label \"1-pikachu\n",
    "        if row[2] == 0:                             \n",
    "            plt.scatter(row[0], row[1], c='r', label='0-pichu') \n",
    "            pichu.append(row)\n",
    "\n",
    "        elif row[2] == 1:\n",
    "            plt.scatter(row[0], row[1], c='b', label='1-pikachu')\n",
    "            pikachu.append(row)\n",
    "            \n",
    "\n",
    "    for row in test_points:\n",
    "        plt.scatter(row[0],row[1], c ='g', label='Test points')   #same principle here as above, except these have no labels to show that they are test points\n",
    "\n",
    "    plt.ylabel('Height')\n",
    "    plt.xlabel('Width')\n",
    "    #print(pichu)\n",
    "    #print(pikachu)\n",
    "    #print(test_points)\n",
    "    plt.show()\n"
   ]
  },
  {
   "cell_type": "code",
   "execution_count": 212,
   "metadata": {},
   "outputs": [],
   "source": [
    "### We now have our data points in pichu and pikachu, and our test points in test_points ###\n",
    "\n",
    "\n",
    "\n",
    "\n",
    "    "
   ]
  }
 ],
 "metadata": {
  "kernelspec": {
   "display_name": "Python 3 (ipykernel)",
   "language": "python",
   "name": "python3"
  },
  "language_info": {
   "codemirror_mode": {
    "name": "ipython",
    "version": 3
   },
   "file_extension": ".py",
   "mimetype": "text/x-python",
   "name": "python",
   "nbconvert_exporter": "python",
   "pygments_lexer": "ipython3",
   "version": "3.10.12"
  }
 },
 "nbformat": 4,
 "nbformat_minor": 2
}
