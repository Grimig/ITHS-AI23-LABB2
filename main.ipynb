{
 "cells": [
  {
   "cell_type": "markdown",
   "metadata": {},
   "source": [
    "-   * # __LABB 2__\n",
    "\n",
    "### Using synthetic data and ML to solve the problem of differentiating between obese Pichus and Pikachus.\n",
    "\n",
    "\n"
   ]
  },
  {
   "cell_type": "code",
   "execution_count": 71,
   "metadata": {},
   "outputs": [
    {
     "name": "stdout",
     "output_type": "stream",
     "text": [
      "     (width (cm)   height (cm)   label (0=pichu 1=pikachu))\n",
      "0      21.959384     31.239567                            0\n",
      "1      23.635916     36.468215                            1\n",
      "2      17.714056     31.441704                            0\n",
      "3      21.780200     33.213398                            1\n",
      "4      25.206306     36.558816                            1\n",
      "..           ...           ...                          ...\n",
      "145    18.990690     32.387963                            0\n",
      "146    23.542000     32.475193                            0\n",
      "147    19.640603     30.291557                            0\n",
      "148    21.989954     33.645903                            1\n",
      "149    22.302103     32.732379                            0\n",
      "\n",
      "[150 rows x 3 columns]\n"
     ]
    }
   ],
   "source": [
    "import pandas as pd\n",
    "import numpy as np\n",
    "import matplotlib.pyplot as plt\n",
    "\n",
    "data = pd.read_csv('resources\\datapoints.txt')\n",
    "\n",
    "print(data)"
   ]
  },
  {
   "cell_type": "code",
   "execution_count": null,
   "metadata": {},
   "outputs": [],
   "source": []
  }
 ],
 "metadata": {
  "kernelspec": {
   "display_name": "Python 3 (ipykernel)",
   "language": "python",
   "name": "python3"
  },
  "language_info": {
   "codemirror_mode": {
    "name": "ipython",
    "version": 3
   },
   "file_extension": ".py",
   "mimetype": "text/x-python",
   "name": "python",
   "nbconvert_exporter": "python",
   "pygments_lexer": "ipython3",
   "version": "3.10.12"
  }
 },
 "nbformat": 4,
 "nbformat_minor": 2
}
